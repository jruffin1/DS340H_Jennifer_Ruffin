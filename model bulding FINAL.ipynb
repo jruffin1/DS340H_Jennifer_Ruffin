{
 "cells": [
  {
   "cell_type": "markdown",
   "metadata": {},
   "source": [
    "## DS340-H Final Capstone Project\n",
    "Jennifer Ruffin\n",
    "\n",
    "**_Research Questions_**\n",
    "1. How does station-level demand (in terms of trip origins  and destinations) vary across different months and times of day?\n",
    "2. What are the resulting peak usage periods for the most popular stations?\n",
    "\n",
    "In this notebook, I will employ the machine learning methods Random Forest Regression for predicting start counts at different stations."
   ]
  },
  {
   "cell_type": "code",
   "execution_count": 1,
   "metadata": {},
   "outputs": [],
   "source": [
    "import pandas as pd\n",
    "bikeData = pd.read_csv('/Users/jenniferruffin/Desktop/Capstone/Final/CapstoneFinal.csv')  "
   ]
  },
  {
   "cell_type": "code",
   "execution_count": 2,
   "metadata": {},
   "outputs": [],
   "source": [
    "bikeData['started_time'] = pd.to_datetime(bikeData['started_time'], errors='coerce')"
   ]
  },
  {
   "cell_type": "markdown",
   "metadata": {},
   "source": [
    "### Strategy: Predicting Peak Usage Times with Random Forests Regressor and Gradient Boosting"
   ]
  },
  {
   "cell_type": "code",
   "execution_count": 10,
   "metadata": {},
   "outputs": [],
   "source": [
    "import pandas as pd\n",
    "from sklearn.model_selection import train_test_split\n",
    "from sklearn.ensemble import RandomForestRegressor\n",
    "from sklearn.ensemble import GradientBoostingRegressor \n",
    "from sklearn.preprocessing import LabelEncoder\n",
    "from sklearn.metrics import mean_squared_error, r2_score"
   ]
  },
  {
   "cell_type": "markdown",
   "metadata": {},
   "source": [
    "Step 1: Aggregate hourly start counts for each station"
   ]
  },
  {
   "cell_type": "code",
   "execution_count": 11,
   "metadata": {},
   "outputs": [],
   "source": [
    "hourly_starts = bikeData.groupby(['start_station_name', 'startmonth', 'start_hour', 'start_day_of_week']).size().reset_index(name='start_count')\n",
    "hourly_starts = hourly_starts.rename(columns={'start_hour': 'hour','startmonth': 'month', 'start_day_of_week': 'day_of_week'})"
   ]
  },
  {
   "cell_type": "markdown",
   "metadata": {},
   "source": [
    "Step 2: Defining and Encoding predictors and target variable\n",
    "\n",
    "_Because I had categorical predictors, I decided to encode them so running the models would be easier_"
   ]
  },
  {
   "cell_type": "code",
   "execution_count": 12,
   "metadata": {},
   "outputs": [],
   "source": [
    "categorical_cols = ['start_station_name', 'month', 'day_of_week']\n",
    "encoders = {}\n",
    "for col in categorical_cols:\n",
    "    encoders[col] = LabelEncoder()\n",
    "    hourly_starts[col + '_encoded'] = encoders[col].fit_transform(hourly_starts[col])\n",
    "\n",
    "# Add hour as a predictor\n",
    "hourly_starts['hour_of_day'] = hourly_starts['hour']\n",
    "\n",
    "# defining predictors and target\n",
    "predictors = ['start_station_name_encoded', 'month_encoded', 'day_of_week_encoded',\n",
    "                   'hour_of_day'] # Add more predictors if available\n",
    "target = 'start_count'"
   ]
  },
  {
   "cell_type": "code",
   "execution_count": 13,
   "metadata": {},
   "outputs": [],
   "source": [
    "# Define predictors and target\n",
    "X = hourly_starts[predictors]\n",
    "y = hourly_starts[target]"
   ]
  },
  {
   "cell_type": "markdown",
   "metadata": {},
   "source": [
    "Step 3: Split data into testing and training data"
   ]
  },
  {
   "cell_type": "code",
   "execution_count": 14,
   "metadata": {},
   "outputs": [],
   "source": [
    "# Split data\n",
    "X_train, X_test, y_train, y_test = train_test_split(X, y, test_size=0.2, random_state=0)"
   ]
  },
  {
   "cell_type": "markdown",
   "metadata": {},
   "source": [
    "Step 4: Run Random Forests Regression Model"
   ]
  },
  {
   "cell_type": "code",
   "execution_count": 17,
   "metadata": {},
   "outputs": [
    {
     "name": "stdout",
     "output_type": "stream",
     "text": [
      "Random Forest Regressor:\n",
      "MSE: 143.4861042721519\n",
      "R^2: 0.8653183875008246\n"
     ]
    }
   ],
   "source": [
    "rf_model = RandomForestRegressor(random_state=0)\n",
    "rf_model.fit(X_train, y_train)\n",
    "rf_predictions = rf_model.predict(X_test)\n",
    "\n",
    "# Evaluate Random Forest\n",
    "print(\"Random Forest Regressor:\")\n",
    "print(\"MSE:\", mean_squared_error(y_test, rf_predictions))\n",
    "print(\"R^2:\", r2_score(y_test, rf_predictions))"
   ]
  },
  {
   "cell_type": "markdown",
   "metadata": {},
   "source": [
    "Step 4: Gradient Boosting "
   ]
  },
  {
   "cell_type": "code",
   "execution_count": 18,
   "metadata": {},
   "outputs": [
    {
     "name": "stdout",
     "output_type": "stream",
     "text": [
      "\n",
      "Gradient Boosting Regressor:\n",
      "MSE: 203.063400731838\n",
      "R^2: 0.8093968305233434\n"
     ]
    }
   ],
   "source": [
    "# Gradient Boosting Regressor\n",
    "gb_model = GradientBoostingRegressor(random_state=0)\n",
    "gb_model.fit(X_train, y_train)\n",
    "gb_predictions = gb_model.predict(X_test)\n",
    "\n",
    "# Evaluate Gradient Boosting\n",
    "print(\"\\nGradient Boosting Regressor:\")\n",
    "print(\"MSE:\", mean_squared_error(y_test, gb_predictions))\n",
    "print(\"R^2:\", r2_score(y_test, gb_predictions))"
   ]
  },
  {
   "cell_type": "markdown",
   "metadata": {},
   "source": [
    "Step 5: Visualize Gradient Boosting Results with Feature Importance"
   ]
  },
  {
   "cell_type": "code",
   "execution_count": 21,
   "metadata": {},
   "outputs": [
    {
     "data": {
      "image/png": "[encoded data removed]",
      "text/plain": [
       "<Figure size 1000x600 with 1 Axes>"
      ]
     },
     "metadata": {},
     "output_type": "display_data"
    }
   ],
   "source": [
    "# import seaborn for visualizations!\n",
    "import seaborn as sns\n",
    "\n",
    "# Create a DataFrame for better sorting\n",
    "feat_importances = pd.Series(importances, index=feature_names)\n",
    "feat_importances = feat_importances.sort_values(ascending=False)\n",
    "\n",
    "# Plot with seaborn\n",
    "plt.figure(figsize=(10,6))\n",
    "sns.barplot(x=feat_importances.values, y=feat_importances.index)\n",
    "plt.title(\"Feature Importances for Gradient Boosting Regressor\")\n",
    "plt.xlabel(\"Importance\")\n",
    "plt.ylabel(\"Feature\")\n",
    "plt.tight_layout()\n",
    "plt.show()\n"
   ]
  }
 ],
 "metadata": {
  "kernelspec": {
   "display_name": "Python 3",
   "language": "python",
   "name": "python3"
  },
  "language_info": {
   "codemirror_mode": {
    "name": "ipython",
    "version": 3
   },
   "file_extension": ".py",
   "mimetype": "text/x-python",
   "name": "python",
   "nbconvert_exporter": "python",
   "pygments_lexer": "ipython3",
   "version": "3.12.4"
  }
 },
 "nbformat": 4,
 "nbformat_minor": 2
}
